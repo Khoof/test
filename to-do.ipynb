{
  "nbformat": 4,
  "nbformat_minor": 0,
  "metadata": {
    "colab": {
      "provenance": [],
      "authorship_tag": "ABX9TyMwP8Gtt4VTlcngcuEu0iqb",
      "include_colab_link": true
    },
    "kernelspec": {
      "name": "python3",
      "display_name": "Python 3"
    },
    "language_info": {
      "name": "python"
    },
    "widgets": {
      "application/vnd.jupyter.widget-state+json": {
        "fc8be72993c847e19e0d6fd402fe7222": {
          "model_module": "@jupyter-widgets/controls",
          "model_name": "TextModel",
          "model_module_version": "1.5.0",
          "state": {
            "_dom_classes": [],
            "_model_module": "@jupyter-widgets/controls",
            "_model_module_version": "1.5.0",
            "_model_name": "TextModel",
            "_view_count": null,
            "_view_module": "@jupyter-widgets/controls",
            "_view_module_version": "1.5.0",
            "_view_name": "TextView",
            "continuous_update": true,
            "description": "New Task:",
            "description_tooltip": null,
            "disabled": false,
            "layout": "IPY_MODEL_6f68751f18d14d8494ccbff864d5ede0",
            "placeholder": "Enter a new task",
            "style": "IPY_MODEL_ecde98526b7247a39fed2871b0c95d3f",
            "value": ""
          }
        },
        "6f68751f18d14d8494ccbff864d5ede0": {
          "model_module": "@jupyter-widgets/base",
          "model_name": "LayoutModel",
          "model_module_version": "1.2.0",
          "state": {
            "_model_module": "@jupyter-widgets/base",
            "_model_module_version": "1.2.0",
            "_model_name": "LayoutModel",
            "_view_count": null,
            "_view_module": "@jupyter-widgets/base",
            "_view_module_version": "1.2.0",
            "_view_name": "LayoutView",
            "align_content": null,
            "align_items": null,
            "align_self": null,
            "border": null,
            "bottom": null,
            "display": null,
            "flex": null,
            "flex_flow": null,
            "grid_area": null,
            "grid_auto_columns": null,
            "grid_auto_flow": null,
            "grid_auto_rows": null,
            "grid_column": null,
            "grid_gap": null,
            "grid_row": null,
            "grid_template_areas": null,
            "grid_template_columns": null,
            "grid_template_rows": null,
            "height": null,
            "justify_content": null,
            "justify_items": null,
            "left": null,
            "margin": null,
            "max_height": null,
            "max_width": null,
            "min_height": null,
            "min_width": null,
            "object_fit": null,
            "object_position": null,
            "order": null,
            "overflow": null,
            "overflow_x": null,
            "overflow_y": null,
            "padding": null,
            "right": null,
            "top": null,
            "visibility": null,
            "width": null
          }
        },
        "ecde98526b7247a39fed2871b0c95d3f": {
          "model_module": "@jupyter-widgets/controls",
          "model_name": "DescriptionStyleModel",
          "model_module_version": "1.5.0",
          "state": {
            "_model_module": "@jupyter-widgets/controls",
            "_model_module_version": "1.5.0",
            "_model_name": "DescriptionStyleModel",
            "_view_count": null,
            "_view_module": "@jupyter-widgets/base",
            "_view_module_version": "1.2.0",
            "_view_name": "StyleView",
            "description_width": ""
          }
        },
        "91c9e270260d40019d9036cb6264dc82": {
          "model_module": "@jupyter-widgets/controls",
          "model_name": "ButtonModel",
          "model_module_version": "1.5.0",
          "state": {
            "_dom_classes": [],
            "_model_module": "@jupyter-widgets/controls",
            "_model_module_version": "1.5.0",
            "_model_name": "ButtonModel",
            "_view_count": null,
            "_view_module": "@jupyter-widgets/controls",
            "_view_module_version": "1.5.0",
            "_view_name": "ButtonView",
            "button_style": "info",
            "description": "Add Task",
            "disabled": false,
            "icon": "",
            "layout": "IPY_MODEL_dce86a9af2ff425d8a26407d34d3c241",
            "style": "IPY_MODEL_53d3e0cfc9114a988350a6c220120229",
            "tooltip": "Click to add a new task"
          }
        },
        "dce86a9af2ff425d8a26407d34d3c241": {
          "model_module": "@jupyter-widgets/base",
          "model_name": "LayoutModel",
          "model_module_version": "1.2.0",
          "state": {
            "_model_module": "@jupyter-widgets/base",
            "_model_module_version": "1.2.0",
            "_model_name": "LayoutModel",
            "_view_count": null,
            "_view_module": "@jupyter-widgets/base",
            "_view_module_version": "1.2.0",
            "_view_name": "LayoutView",
            "align_content": null,
            "align_items": null,
            "align_self": null,
            "border": null,
            "bottom": null,
            "display": null,
            "flex": null,
            "flex_flow": null,
            "grid_area": null,
            "grid_auto_columns": null,
            "grid_auto_flow": null,
            "grid_auto_rows": null,
            "grid_column": null,
            "grid_gap": null,
            "grid_row": null,
            "grid_template_areas": null,
            "grid_template_columns": null,
            "grid_template_rows": null,
            "height": null,
            "justify_content": null,
            "justify_items": null,
            "left": null,
            "margin": null,
            "max_height": null,
            "max_width": null,
            "min_height": null,
            "min_width": null,
            "object_fit": null,
            "object_position": null,
            "order": null,
            "overflow": null,
            "overflow_x": null,
            "overflow_y": null,
            "padding": null,
            "right": null,
            "top": null,
            "visibility": null,
            "width": null
          }
        },
        "53d3e0cfc9114a988350a6c220120229": {
          "model_module": "@jupyter-widgets/controls",
          "model_name": "ButtonStyleModel",
          "model_module_version": "1.5.0",
          "state": {
            "_model_module": "@jupyter-widgets/controls",
            "_model_module_version": "1.5.0",
            "_model_name": "ButtonStyleModel",
            "_view_count": null,
            "_view_module": "@jupyter-widgets/base",
            "_view_module_version": "1.2.0",
            "_view_name": "StyleView",
            "button_color": null,
            "font_weight": ""
          }
        },
        "06e2b877042144e1b42b795cf3bbe877": {
          "model_module": "@jupyter-widgets/output",
          "model_name": "OutputModel",
          "model_module_version": "1.0.0",
          "state": {
            "_dom_classes": [],
            "_model_module": "@jupyter-widgets/output",
            "_model_module_version": "1.0.0",
            "_model_name": "OutputModel",
            "_view_count": null,
            "_view_module": "@jupyter-widgets/output",
            "_view_module_version": "1.0.0",
            "_view_name": "OutputView",
            "layout": "IPY_MODEL_2f6d9e7e0b0e4e8cb05027d2295c0ca4",
            "msg_id": "",
            "outputs": [
              {
                "output_type": "stream",
                "name": "stdout",
                "text": [
                  "No tasks added yet. Enjoy your day!\n"
                ]
              }
            ]
          }
        },
        "2f6d9e7e0b0e4e8cb05027d2295c0ca4": {
          "model_module": "@jupyter-widgets/base",
          "model_name": "LayoutModel",
          "model_module_version": "1.2.0",
          "state": {
            "_model_module": "@jupyter-widgets/base",
            "_model_module_version": "1.2.0",
            "_model_name": "LayoutModel",
            "_view_count": null,
            "_view_module": "@jupyter-widgets/base",
            "_view_module_version": "1.2.0",
            "_view_name": "LayoutView",
            "align_content": null,
            "align_items": null,
            "align_self": null,
            "border": null,
            "bottom": null,
            "display": null,
            "flex": null,
            "flex_flow": null,
            "grid_area": null,
            "grid_auto_columns": null,
            "grid_auto_flow": null,
            "grid_auto_rows": null,
            "grid_column": null,
            "grid_gap": null,
            "grid_row": null,
            "grid_template_areas": null,
            "grid_template_columns": null,
            "grid_template_rows": null,
            "height": null,
            "justify_content": null,
            "justify_items": null,
            "left": null,
            "margin": null,
            "max_height": null,
            "max_width": null,
            "min_height": null,
            "min_width": null,
            "object_fit": null,
            "object_position": null,
            "order": null,
            "overflow": null,
            "overflow_x": null,
            "overflow_y": null,
            "padding": null,
            "right": null,
            "top": null,
            "visibility": null,
            "width": null
          }
        }
      }
    }
  },
  "cells": [
    {
      "cell_type": "markdown",
      "metadata": {
        "id": "view-in-github",
        "colab_type": "text"
      },
      "source": [
        "<a href=\"https://colab.research.google.com/github/Khoof/test/blob/main/to-do.ipynb\" target=\"_parent\"><img src=\"https://colab.research.google.com/assets/colab-badge.svg\" alt=\"Open In Colab\"/></a>"
      ]
    },
    {
      "cell_type": "code",
      "execution_count": null,
      "metadata": {
        "id": "0ew82mXz68qi"
      },
      "outputs": [],
      "source": []
    },
    {
      "cell_type": "code",
      "source": [
        "# Simple Interactive To-Do List Application using ipywidgets\n",
        "\n",
        "import ipywidgets as widgets\n",
        "from IPython.display import display, clear_output\n",
        "\n",
        "# Global list to store tasks\n",
        "tasks = []\n",
        "\n",
        "# Create a Text widget for entering a new task\n",
        "task_input = widgets.Text(\n",
        "    value='',\n",
        "    placeholder='Enter a new task',\n",
        "    description='New Task:',\n",
        "    disabled=False\n",
        ")\n",
        "\n",
        "# Create a Button widget for adding the new task to the list\n",
        "add_button = widgets.Button(\n",
        "    description=\"Add Task\",\n",
        "    button_style='info',  # 'success', 'warning', 'danger' are also available\n",
        "    tooltip='Click to add a new task'\n",
        ")\n",
        "\n",
        "# Create an Output widget to display the list of tasks\n",
        "tasks_output = widgets.Output()\n",
        "\n",
        "def refresh_tasks():\n",
        "    \"\"\"\n",
        "    Clear and update the tasks display.\n",
        "    \"\"\"\n",
        "    tasks_output.clear_output()  # Clear previous output\n",
        "    with tasks_output:\n",
        "        if not tasks:\n",
        "            print(\"No tasks added yet. Enjoy your day!\")\n",
        "        else:\n",
        "            print(\"Your To-Do List:\")\n",
        "            for i, task in enumerate(tasks, start=1):\n",
        "                print(f\"{i}. {task}\")\n",
        "\n",
        "def add_task(btn):\n",
        "    \"\"\"\n",
        "    Retrieve text from the input widget, add the new task to the list,\n",
        "    and then refresh the displayed list.\n",
        "    \"\"\"\n",
        "    new_task = task_input.value.strip()  # Remove any extraneous whitespace\n",
        "    if new_task != '':\n",
        "        tasks.append(new_task)\n",
        "        task_input.value = ''  # Reset the text input\n",
        "        refresh_tasks()\n",
        "\n",
        "# Connect the add_task function to the button's on_click event\n",
        "add_button.on_click(add_task)\n",
        "\n",
        "# Display all widgets: task input, add button, and task list display area\n",
        "display(task_input, add_button, tasks_output)\n",
        "\n",
        "# Initial display of the tasks (in case there are pre-added tasks)\n",
        "refresh_tasks()\n"
      ],
      "metadata": {
        "colab": {
          "base_uri": "https://localhost:8080/",
          "height": 98,
          "referenced_widgets": [
            "fc8be72993c847e19e0d6fd402fe7222",
            "6f68751f18d14d8494ccbff864d5ede0",
            "ecde98526b7247a39fed2871b0c95d3f",
            "91c9e270260d40019d9036cb6264dc82",
            "dce86a9af2ff425d8a26407d34d3c241",
            "53d3e0cfc9114a988350a6c220120229",
            "06e2b877042144e1b42b795cf3bbe877",
            "2f6d9e7e0b0e4e8cb05027d2295c0ca4"
          ]
        },
        "id": "rBXvRaUX7WYt",
        "outputId": "e6fe0ba2-134d-41f5-9575-3466b9a4822d"
      },
      "execution_count": 3,
      "outputs": [
        {
          "output_type": "display_data",
          "data": {
            "text/plain": [
              "Text(value='', description='New Task:', placeholder='Enter a new task')"
            ],
            "application/vnd.jupyter.widget-view+json": {
              "version_major": 2,
              "version_minor": 0,
              "model_id": "fc8be72993c847e19e0d6fd402fe7222"
            }
          },
          "metadata": {}
        },
        {
          "output_type": "display_data",
          "data": {
            "text/plain": [
              "Button(button_style='info', description='Add Task', style=ButtonStyle(), tooltip='Click to add a new task')"
            ],
            "application/vnd.jupyter.widget-view+json": {
              "version_major": 2,
              "version_minor": 0,
              "model_id": "91c9e270260d40019d9036cb6264dc82"
            }
          },
          "metadata": {}
        },
        {
          "output_type": "display_data",
          "data": {
            "text/plain": [
              "Output()"
            ],
            "application/vnd.jupyter.widget-view+json": {
              "version_major": 2,
              "version_minor": 0,
              "model_id": "06e2b877042144e1b42b795cf3bbe877"
            }
          },
          "metadata": {}
        }
      ]
    }
  ]
}